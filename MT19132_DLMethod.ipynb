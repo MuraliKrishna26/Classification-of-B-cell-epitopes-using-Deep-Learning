{
  "nbformat": 4,
  "nbformat_minor": 0,
  "metadata": {
    "colab": {
      "name": "KaggleAssignment3_Final.ipynb",
      "provenance": []
    },
    "kernelspec": {
      "name": "python3",
      "display_name": "Python 3"
    }
  },
  "cells": [
    {
      "cell_type": "code",
      "metadata": {
        "id": "hHhMRirbcBWk",
        "colab_type": "code",
        "colab": {
          "base_uri": "https://localhost:8080/",
          "height": 71
        },
        "outputId": "650193fe-385c-414d-fe36-67c9fa5207b8"
      },
      "source": [
        "import pandas as pd\n",
        "import matplotlib.pyplot as plt\n",
        "import numpy as np\n",
        "import seaborn as sns"
      ],
      "execution_count": 1,
      "outputs": [
        {
          "output_type": "stream",
          "text": [
            "/usr/local/lib/python3.6/dist-packages/statsmodels/tools/_testing.py:19: FutureWarning: pandas.util.testing is deprecated. Use the functions in the public API at pandas.testing instead.\n",
            "  import pandas.util.testing as tm\n"
          ],
          "name": "stderr"
        }
      ]
    },
    {
      "cell_type": "code",
      "metadata": {
        "id": "ycHIOGT0cgIx",
        "colab_type": "code",
        "colab": {}
      },
      "source": [
        "from sklearn.model_selection import train_test_split"
      ],
      "execution_count": 0,
      "outputs": []
    },
    {
      "cell_type": "code",
      "metadata": {
        "id": "cZs27_eKcgl8",
        "colab_type": "code",
        "colab": {}
      },
      "source": [
        "train_data =  \"//content//drive//My Drive//BDMH//Assignment 3//trainset.data\"\n",
        "test_data  =  \"//content//drive//My Drive//BDMH//Assignment 3//testset.dat\""
      ],
      "execution_count": 0,
      "outputs": []
    },
    {
      "cell_type": "code",
      "metadata": {
        "id": "RoAePwA_cgtf",
        "colab_type": "code",
        "colab": {}
      },
      "source": [
        "def getdata(path):\n",
        "  sequence = []\n",
        "  label_convert = []\n",
        "\n",
        "  with open(path) as f:\n",
        "    for line in f:\n",
        "      text_file = line.split(\",\")\n",
        "      sequence.append(text_file[0])\n",
        "      s = text_file[1]\n",
        "      s = s[:-1]\n",
        "      label_convert.append(s)\n",
        "\n",
        "  sequence = sequence[1:]        \n",
        "  label_convert = label_convert[1:] \n",
        "\n",
        "  label = []\n",
        "\n",
        "  for item in label_convert:\n",
        "    if item == '+1':\n",
        "        label.append(1)\n",
        "    else:\n",
        "        label.append(-1)\n",
        "\n",
        "  return sequence,label\n"
      ],
      "execution_count": 0,
      "outputs": []
    },
    {
      "cell_type": "code",
      "metadata": {
        "id": "YUOUkkNKcg1v",
        "colab_type": "code",
        "colab": {}
      },
      "source": [
        "X_tr, Y_train = getdata(train_data)"
      ],
      "execution_count": 0,
      "outputs": []
    },
    {
      "cell_type": "code",
      "metadata": {
        "id": "XtrPEY_Dg01h",
        "colab_type": "code",
        "colab": {}
      },
      "source": [
        "aminoacid_sequence = ['A','C','D','E','F','G','H','I','K','L','M','N','P','Q','R','S','T','V','W','Y']\n",
        "\n",
        "dipeptide_seq = []\n",
        "\n",
        "for charone in aminoacid_sequence:\n",
        "  for chartwo in aminoacid_sequence:\n",
        "    char_to_add = charone+chartwo\n",
        "    dipeptide_seq.append(char_to_add)\n",
        "\n",
        "\n"
      ],
      "execution_count": 0,
      "outputs": []
    },
    {
      "cell_type": "code",
      "metadata": {
        "id": "TpB02Zbzg08c",
        "colab_type": "code",
        "colab": {}
      },
      "source": [
        "# dipeptide_seq"
      ],
      "execution_count": 0,
      "outputs": []
    },
    {
      "cell_type": "code",
      "metadata": {
        "id": "5kFsJ8mOiV7z",
        "colab_type": "code",
        "colab": {}
      },
      "source": [
        "def get_dipeptite_dictionary(str):\n",
        "  size = len(str)\n",
        "  i = 0\n",
        "\n",
        "  eachseq_list = []\n",
        "  while( i < size - 1 ):\n",
        "    add_seq = str[i] + str[i+1]\n",
        "    eachseq_list.append(add_seq)\n",
        "    i += 1\n",
        "  \n",
        "  getdict = {}\n",
        "\n",
        "  for item in eachseq_list:\n",
        "    if getdict.get(item) == None:\n",
        "      getdict[item] = 1\n",
        "    else:\n",
        "      temp = getdict[item]\n",
        "      temp += 1\n",
        "      getdict[item] = temp\n",
        "\n",
        "  new_dict = {}\n",
        "  for item in getdict:\n",
        "    value = getdict[item]\n",
        "    value = value/(len(str) - 1)\n",
        "    new_dict[item] = value\n",
        "\n",
        "  return new_dict"
      ],
      "execution_count": 0,
      "outputs": []
    },
    {
      "cell_type": "code",
      "metadata": {
        "id": "iwV-B-AjiWQy",
        "colab_type": "code",
        "colab": {}
      },
      "source": [
        "def getlist_of_dictionary(X_tr):\n",
        "  list_dictionary = []\n",
        "\n",
        "  for each in X_tr:\n",
        "    dic = get_dipeptite_dictionary(each)\n",
        "    list_dictionary.append(dic)\n",
        "\n",
        "  return list_dictionary  "
      ],
      "execution_count": 0,
      "outputs": []
    },
    {
      "cell_type": "code",
      "metadata": {
        "id": "DVKnFfEEiWO6",
        "colab_type": "code",
        "colab": {}
      },
      "source": [
        "def getvector(vector_dictionary):\n",
        "  final_vector = []\n",
        "\n",
        "  for dic in vector_dictionary:\n",
        "\n",
        "    vec = [0.0] * 400\n",
        "\n",
        "    for item in dic:\n",
        "\n",
        "      for seq in dipeptide_seq:\n",
        "        if seq == item:\n",
        "          index = dipeptide_seq.index(seq)\n",
        "          vec[index] = dic[item]\n",
        "\n",
        "    final_vector.append(vec)\n",
        "\n",
        "  return final_vector\n"
      ],
      "execution_count": 0,
      "outputs": []
    },
    {
      "cell_type": "code",
      "metadata": {
        "id": "j5SbaGKscgzY",
        "colab_type": "code",
        "colab": {}
      },
      "source": [
        "training_vector_dictionary = getlist_of_dictionary(X_tr)"
      ],
      "execution_count": 0,
      "outputs": []
    },
    {
      "cell_type": "code",
      "metadata": {
        "id": "7iqc5Wg4cgrF",
        "colab_type": "code",
        "colab": {}
      },
      "source": [
        "X_train = getvector(training_vector_dictionary)"
      ],
      "execution_count": 0,
      "outputs": []
    },
    {
      "cell_type": "code",
      "metadata": {
        "id": "7LckholMcgh8",
        "colab_type": "code",
        "colab": {
          "base_uri": "https://localhost:8080/",
          "height": 34
        },
        "outputId": "91493ff6-c4d9-46af-ec71-0fd65c74ebab"
      },
      "source": [
        "len(X_train)"
      ],
      "execution_count": 194,
      "outputs": [
        {
          "output_type": "execute_result",
          "data": {
            "text/plain": [
              "2270"
            ]
          },
          "metadata": {
            "tags": []
          },
          "execution_count": 194
        }
      ]
    },
    {
      "cell_type": "code",
      "metadata": {
        "id": "_SM17FmV6Tqx",
        "colab_type": "code",
        "colab": {
          "base_uri": "https://localhost:8080/",
          "height": 34
        },
        "outputId": "683096dd-de5c-4dc9-9c51-e0eea3ba49c8"
      },
      "source": [
        "len(Y_train)"
      ],
      "execution_count": 195,
      "outputs": [
        {
          "output_type": "execute_result",
          "data": {
            "text/plain": [
              "2270"
            ]
          },
          "metadata": {
            "tags": []
          },
          "execution_count": 195
        }
      ]
    },
    {
      "cell_type": "code",
      "metadata": {
        "id": "m6HYeGEF6TyV",
        "colab_type": "code",
        "colab": {}
      },
      "source": [
        "x = np.array(X_train)\n",
        "y = np.array(Y_train)"
      ],
      "execution_count": 0,
      "outputs": []
    },
    {
      "cell_type": "code",
      "metadata": {
        "id": "HrKe4PDr6UCH",
        "colab_type": "code",
        "colab": {
          "base_uri": "https://localhost:8080/",
          "height": 34
        },
        "outputId": "a9df5777-1e3b-459e-8f4f-8a1a45504c1d"
      },
      "source": [
        "x.shape"
      ],
      "execution_count": 200,
      "outputs": [
        {
          "output_type": "execute_result",
          "data": {
            "text/plain": [
              "(2270, 400)"
            ]
          },
          "metadata": {
            "tags": []
          },
          "execution_count": 200
        }
      ]
    },
    {
      "cell_type": "code",
      "metadata": {
        "id": "S6mWghZv6UI7",
        "colab_type": "code",
        "colab": {
          "base_uri": "https://localhost:8080/",
          "height": 34
        },
        "outputId": "bb1ee412-be6b-4e05-e696-ef1d8e66fe50"
      },
      "source": [
        "y.shape"
      ],
      "execution_count": 201,
      "outputs": [
        {
          "output_type": "execute_result",
          "data": {
            "text/plain": [
              "(2270,)"
            ]
          },
          "metadata": {
            "tags": []
          },
          "execution_count": 201
        }
      ]
    },
    {
      "cell_type": "code",
      "metadata": {
        "id": "UYQy9rcU6UGQ",
        "colab_type": "code",
        "colab": {}
      },
      "source": [
        "x_train, x_val, y_train, y_val = train_test_split(x,y, test_size=0.3, random_state=42)"
      ],
      "execution_count": 0,
      "outputs": []
    },
    {
      "cell_type": "code",
      "metadata": {
        "id": "bRmXTbr66T-4",
        "colab_type": "code",
        "colab": {}
      },
      "source": [
        "y_train_final = []\n",
        "for i in y_train:\n",
        "  if i == -1:\n",
        "    y_train_final.append(0)\n",
        "  else:\n",
        "    y_train_final.append(1)\n",
        "\n",
        "y_train_final = np.array(y_train_final)\n"
      ],
      "execution_count": 0,
      "outputs": []
    },
    {
      "cell_type": "code",
      "metadata": {
        "id": "cR3--d7-6T8J",
        "colab_type": "code",
        "colab": {}
      },
      "source": [
        "y_val_final = []\n",
        "for i in y_val:\n",
        "  if i == -1:\n",
        "    y_val_final.append(0)\n",
        "  else:\n",
        "    y_val_final.append(1)\n",
        "\n",
        "y_val_final = np.array(y_val_final)\n"
      ],
      "execution_count": 0,
      "outputs": []
    },
    {
      "cell_type": "code",
      "metadata": {
        "id": "q5jqunHH6T5V",
        "colab_type": "code",
        "colab": {
          "base_uri": "https://localhost:8080/",
          "height": 34
        },
        "outputId": "4ed517ac-8bda-4def-8f17-40dc0eb038da"
      },
      "source": [
        "len(y_val_final)"
      ],
      "execution_count": 217,
      "outputs": [
        {
          "output_type": "execute_result",
          "data": {
            "text/plain": [
              "681"
            ]
          },
          "metadata": {
            "tags": []
          },
          "execution_count": 217
        }
      ]
    },
    {
      "cell_type": "code",
      "metadata": {
        "id": "GOT3lrYT6T2g",
        "colab_type": "code",
        "colab": {
          "base_uri": "https://localhost:8080/",
          "height": 34
        },
        "outputId": "e9138f2d-e2ce-46ba-8462-46a93198c8e8"
      },
      "source": [
        "len(y_train_final)"
      ],
      "execution_count": 218,
      "outputs": [
        {
          "output_type": "execute_result",
          "data": {
            "text/plain": [
              "1589"
            ]
          },
          "metadata": {
            "tags": []
          },
          "execution_count": 218
        }
      ]
    },
    {
      "cell_type": "code",
      "metadata": {
        "id": "R62ETjF_6Tve",
        "colab_type": "code",
        "colab": {}
      },
      "source": [
        "## x_train\n",
        "## x_val\n",
        "\n",
        "## y_val_final\n",
        "## y_train_final"
      ],
      "execution_count": 0,
      "outputs": []
    },
    {
      "cell_type": "code",
      "metadata": {
        "id": "ceAwOXuP6Tnd",
        "colab_type": "code",
        "colab": {}
      },
      "source": [
        ""
      ],
      "execution_count": 0,
      "outputs": []
    },
    {
      "cell_type": "code",
      "metadata": {
        "id": "hE_jxhqYCg8o",
        "colab_type": "code",
        "colab": {}
      },
      "source": [
        ""
      ],
      "execution_count": 0,
      "outputs": []
    },
    {
      "cell_type": "code",
      "metadata": {
        "id": "ZA9TT5cpChBR",
        "colab_type": "code",
        "colab": {}
      },
      "source": [
        "from tensorflow.python.keras.layers import Dense\n",
        "from tensorflow.python.keras import Sequential\n",
        "from tensorflow.python.keras.optimizers import Adam"
      ],
      "execution_count": 0,
      "outputs": []
    },
    {
      "cell_type": "code",
      "metadata": {
        "id": "IRpfwVo_Cg60",
        "colab_type": "code",
        "colab": {}
      },
      "source": [
        "model = Sequential([\n",
        "                    Dense(16, input_shape = (400,), activation='relu'),\n",
        "                    Dense(32, activation = 'relu'),\n",
        "                    Dense(2, activation = 'softmax')\n",
        "                    ])"
      ],
      "execution_count": 0,
      "outputs": []
    },
    {
      "cell_type": "code",
      "metadata": {
        "id": "FHYf5OHRCg3q",
        "colab_type": "code",
        "colab": {
          "base_uri": "https://localhost:8080/",
          "height": 255
        },
        "outputId": "5779ee88-9901-4f14-ca50-2eee46b763ce"
      },
      "source": [
        "model.summary()"
      ],
      "execution_count": 235,
      "outputs": [
        {
          "output_type": "stream",
          "text": [
            "Model: \"sequential_4\"\n",
            "_________________________________________________________________\n",
            "Layer (type)                 Output Shape              Param #   \n",
            "=================================================================\n",
            "dense_12 (Dense)             (None, 16)                6416      \n",
            "_________________________________________________________________\n",
            "dense_13 (Dense)             (None, 32)                544       \n",
            "_________________________________________________________________\n",
            "dense_14 (Dense)             (None, 2)                 66        \n",
            "=================================================================\n",
            "Total params: 7,026\n",
            "Trainable params: 7,026\n",
            "Non-trainable params: 0\n",
            "_________________________________________________________________\n"
          ],
          "name": "stdout"
        }
      ]
    },
    {
      "cell_type": "code",
      "metadata": {
        "id": "hHh6O3lGCgzV",
        "colab_type": "code",
        "colab": {}
      },
      "source": [
        "model.compile(optimizer='adam', loss='sparse_categorical_crossentropy',metrics=['accuracy'])"
      ],
      "execution_count": 0,
      "outputs": []
    },
    {
      "cell_type": "code",
      "metadata": {
        "id": "qosk-XcNCgv7",
        "colab_type": "code",
        "colab": {
          "base_uri": "https://localhost:8080/",
          "height": 544
        },
        "outputId": "af45f9cc-ef44-475a-e5cd-984b7604b0a0"
      },
      "source": [
        "model.fit(x_train,y_train_final,batch_size=10, epochs=15)"
      ],
      "execution_count": 237,
      "outputs": [
        {
          "output_type": "stream",
          "text": [
            "Epoch 1/15\n",
            "159/159 [==============================] - 0s 1ms/step - loss: 0.6614 - accuracy: 0.6287\n",
            "Epoch 2/15\n",
            "159/159 [==============================] - 0s 1ms/step - loss: 0.6291 - accuracy: 0.6369\n",
            "Epoch 3/15\n",
            "159/159 [==============================] - 0s 1ms/step - loss: 0.5620 - accuracy: 0.6992\n",
            "Epoch 4/15\n",
            "159/159 [==============================] - 0s 1ms/step - loss: 0.4807 - accuracy: 0.7722\n",
            "Epoch 5/15\n",
            "159/159 [==============================] - 0s 1ms/step - loss: 0.4291 - accuracy: 0.8081\n",
            "Epoch 6/15\n",
            "159/159 [==============================] - 0s 1ms/step - loss: 0.3850 - accuracy: 0.8345\n",
            "Epoch 7/15\n",
            "159/159 [==============================] - 0s 1ms/step - loss: 0.3444 - accuracy: 0.8521\n",
            "Epoch 8/15\n",
            "159/159 [==============================] - 0s 1ms/step - loss: 0.3007 - accuracy: 0.8754\n",
            "Epoch 9/15\n",
            "159/159 [==============================] - 0s 1ms/step - loss: 0.2605 - accuracy: 0.8968\n",
            "Epoch 10/15\n",
            "159/159 [==============================] - 0s 1ms/step - loss: 0.2196 - accuracy: 0.9226\n",
            "Epoch 11/15\n",
            "159/159 [==============================] - 0s 1ms/step - loss: 0.1808 - accuracy: 0.9390\n",
            "Epoch 12/15\n",
            "159/159 [==============================] - 0s 1ms/step - loss: 0.1454 - accuracy: 0.9528\n",
            "Epoch 13/15\n",
            "159/159 [==============================] - 0s 1ms/step - loss: 0.1172 - accuracy: 0.9692\n",
            "Epoch 14/15\n",
            "159/159 [==============================] - 0s 1ms/step - loss: 0.0926 - accuracy: 0.9786\n",
            "Epoch 15/15\n",
            "159/159 [==============================] - 0s 1ms/step - loss: 0.0722 - accuracy: 0.9849\n"
          ],
          "name": "stdout"
        },
        {
          "output_type": "execute_result",
          "data": {
            "text/plain": [
              "<tensorflow.python.keras.callbacks.History at 0x7f120808f208>"
            ]
          },
          "metadata": {
            "tags": []
          },
          "execution_count": 237
        }
      ]
    },
    {
      "cell_type": "code",
      "metadata": {
        "id": "jrG8wyoCCgtm",
        "colab_type": "code",
        "colab": {}
      },
      "source": [
        ""
      ],
      "execution_count": 0,
      "outputs": []
    },
    {
      "cell_type": "code",
      "metadata": {
        "id": "3oh6ZqXRCgp5",
        "colab_type": "code",
        "colab": {
          "base_uri": "https://localhost:8080/",
          "height": 88
        },
        "outputId": "56f32ed3-4838-4181-c230-d6362593b125"
      },
      "source": [
        "y_val_predict = model.predict_classes(x_val)"
      ],
      "execution_count": 238,
      "outputs": [
        {
          "output_type": "stream",
          "text": [
            "WARNING:tensorflow:From <ipython-input-238-b062d8cbc3f5>:1: Sequential.predict_classes (from tensorflow.python.keras.engine.sequential) is deprecated and will be removed after 2021-01-01.\n",
            "Instructions for updating:\n",
            "Please use instead:* `np.argmax(model.predict(x), axis=-1)`,   if your model does multi-class classification   (e.g. if it uses a `softmax` last-layer activation).* `(model.predict(x) > 0.5).astype(\"int32\")`,   if your model does binary classification   (e.g. if it uses a `sigmoid` last-layer activation).\n"
          ],
          "name": "stdout"
        }
      ]
    },
    {
      "cell_type": "code",
      "metadata": {
        "id": "Byepip_wGGs_",
        "colab_type": "code",
        "colab": {
          "base_uri": "https://localhost:8080/",
          "height": 544
        },
        "outputId": "dd2edb25-0244-405f-c378-64bf26d81d87"
      },
      "source": [
        "y_val_predict"
      ],
      "execution_count": 239,
      "outputs": [
        {
          "output_type": "execute_result",
          "data": {
            "text/plain": [
              "array([1, 0, 1, 1, 0, 0, 1, 1, 0, 1, 1, 1, 0, 0, 0, 1, 0, 0, 0, 1, 0, 0,\n",
              "       1, 1, 0, 1, 0, 0, 0, 0, 0, 0, 0, 1, 1, 1, 0, 0, 0, 0, 0, 1, 0, 0,\n",
              "       1, 1, 0, 0, 0, 1, 0, 1, 1, 1, 0, 0, 0, 1, 1, 0, 0, 1, 0, 0, 0, 0,\n",
              "       0, 1, 0, 0, 0, 1, 1, 0, 0, 0, 1, 0, 0, 1, 0, 1, 0, 0, 0, 0, 1, 0,\n",
              "       0, 1, 0, 1, 1, 1, 1, 0, 1, 1, 1, 1, 1, 0, 0, 1, 1, 0, 1, 0, 0, 1,\n",
              "       0, 1, 1, 1, 1, 0, 0, 0, 0, 0, 1, 1, 0, 0, 1, 1, 0, 0, 1, 0, 0, 0,\n",
              "       0, 0, 0, 1, 1, 0, 1, 0, 0, 1, 1, 0, 0, 0, 1, 0, 1, 0, 1, 0, 0, 0,\n",
              "       0, 1, 0, 0, 1, 0, 1, 0, 1, 1, 1, 0, 0, 0, 1, 0, 0, 0, 1, 0, 0, 0,\n",
              "       0, 1, 0, 1, 0, 0, 1, 0, 0, 0, 0, 0, 0, 0, 1, 0, 0, 1, 0, 0, 1, 1,\n",
              "       1, 1, 1, 1, 0, 1, 1, 1, 0, 1, 0, 0, 1, 0, 0, 1, 0, 0, 1, 0, 1, 0,\n",
              "       0, 0, 0, 0, 0, 0, 1, 1, 0, 1, 1, 1, 0, 0, 0, 0, 0, 1, 0, 0, 0, 0,\n",
              "       1, 0, 0, 0, 0, 0, 0, 1, 1, 0, 1, 0, 0, 1, 0, 0, 0, 1, 0, 1, 0, 1,\n",
              "       0, 0, 1, 0, 1, 0, 0, 1, 1, 0, 0, 0, 1, 1, 0, 0, 0, 1, 0, 0, 1, 1,\n",
              "       1, 0, 0, 0, 1, 1, 1, 0, 1, 0, 0, 0, 0, 0, 1, 0, 0, 1, 1, 1, 0, 1,\n",
              "       0, 0, 0, 0, 0, 1, 1, 1, 0, 0, 1, 0, 0, 0, 0, 1, 0, 1, 1, 1, 1, 1,\n",
              "       0, 0, 0, 0, 0, 0, 1, 0, 0, 0, 1, 0, 0, 1, 0, 0, 0, 1, 1, 1, 1, 1,\n",
              "       0, 1, 0, 0, 0, 1, 0, 1, 0, 0, 1, 1, 1, 1, 0, 1, 1, 0, 0, 0, 1, 0,\n",
              "       0, 0, 1, 1, 0, 0, 0, 0, 0, 0, 0, 0, 0, 0, 0, 0, 1, 1, 0, 1, 1, 1,\n",
              "       0, 1, 0, 0, 0, 0, 0, 0, 0, 1, 0, 0, 1, 1, 1, 0, 0, 0, 0, 0, 0, 0,\n",
              "       0, 1, 0, 0, 0, 0, 0, 1, 1, 1, 1, 1, 1, 1, 0, 0, 0, 1, 0, 0, 0, 0,\n",
              "       0, 0, 1, 0, 0, 0, 0, 0, 0, 1, 1, 1, 1, 0, 1, 0, 0, 0, 0, 1, 1, 0,\n",
              "       0, 0, 1, 0, 1, 0, 0, 1, 0, 0, 1, 0, 0, 0, 1, 0, 0, 1, 0, 1, 0, 0,\n",
              "       0, 1, 0, 0, 0, 0, 0, 0, 0, 0, 0, 0, 0, 1, 1, 1, 0, 1, 0, 0, 1, 0,\n",
              "       0, 0, 0, 0, 0, 0, 0, 1, 0, 0, 0, 1, 1, 0, 0, 0, 0, 1, 0, 1, 0, 0,\n",
              "       0, 0, 1, 0, 0, 0, 0, 0, 1, 0, 1, 1, 0, 0, 1, 0, 0, 0, 0, 0, 0, 0,\n",
              "       1, 0, 0, 1, 0, 0, 1, 0, 1, 0, 0, 1, 1, 1, 1, 1, 1, 0, 0, 1, 0, 1,\n",
              "       1, 0, 0, 0, 0, 0, 0, 0, 1, 0, 1, 0, 0, 1, 1, 0, 1, 1, 0, 0, 1, 0,\n",
              "       0, 0, 1, 1, 0, 1, 0, 1, 0, 0, 1, 0, 1, 0, 1, 0, 0, 1, 0, 0, 0, 0,\n",
              "       0, 0, 0, 1, 0, 0, 0, 1, 1, 0, 0, 0, 1, 1, 0, 0, 0, 0, 1, 1, 1, 0,\n",
              "       0, 1, 1, 0, 0, 1, 0, 1, 0, 0, 0, 0, 1, 0, 0, 0, 0, 0, 1, 0, 0, 0,\n",
              "       0, 1, 1, 0, 1, 0, 0, 1, 1, 0, 0, 1, 1, 1, 0, 0, 0, 0, 1, 0, 0])"
            ]
          },
          "metadata": {
            "tags": []
          },
          "execution_count": 239
        }
      ]
    },
    {
      "cell_type": "code",
      "metadata": {
        "id": "XIiCBifaGG2y",
        "colab_type": "code",
        "colab": {}
      },
      "source": [
        ""
      ],
      "execution_count": 0,
      "outputs": []
    },
    {
      "cell_type": "code",
      "metadata": {
        "id": "G42RXaKYGGz0",
        "colab_type": "code",
        "colab": {
          "base_uri": "https://localhost:8080/",
          "height": 544
        },
        "outputId": "1d7ce79a-e4b2-42c3-bdfe-6093b13259b5"
      },
      "source": [
        "y_val_final"
      ],
      "execution_count": 240,
      "outputs": [
        {
          "output_type": "execute_result",
          "data": {
            "text/plain": [
              "array([0, 0, 1, 1, 0, 0, 1, 1, 0, 1, 0, 0, 0, 0, 0, 0, 0, 1, 0, 1, 1, 0,\n",
              "       1, 1, 0, 1, 0, 0, 0, 0, 0, 0, 0, 0, 0, 0, 1, 0, 0, 0, 0, 1, 0, 0,\n",
              "       0, 0, 1, 0, 0, 0, 1, 1, 1, 1, 0, 0, 1, 1, 1, 1, 0, 1, 0, 0, 0, 1,\n",
              "       0, 1, 0, 0, 1, 0, 0, 0, 0, 0, 1, 0, 0, 0, 1, 1, 1, 1, 0, 1, 1, 1,\n",
              "       1, 1, 0, 0, 0, 1, 0, 1, 0, 1, 1, 1, 0, 0, 0, 1, 0, 1, 1, 0, 0, 0,\n",
              "       0, 0, 1, 1, 0, 0, 1, 0, 1, 0, 1, 0, 1, 0, 1, 0, 1, 0, 1, 1, 0, 1,\n",
              "       1, 1, 1, 1, 0, 0, 1, 0, 0, 1, 0, 0, 0, 0, 1, 0, 1, 0, 0, 0, 0, 0,\n",
              "       0, 1, 1, 1, 0, 0, 1, 0, 1, 1, 1, 0, 0, 0, 1, 0, 0, 1, 1, 0, 0, 0,\n",
              "       0, 1, 0, 1, 0, 0, 1, 0, 0, 0, 1, 0, 0, 0, 1, 0, 1, 1, 1, 0, 1, 1,\n",
              "       1, 1, 1, 0, 0, 1, 1, 0, 0, 1, 0, 0, 0, 0, 0, 1, 1, 0, 1, 0, 1, 0,\n",
              "       1, 0, 0, 0, 0, 0, 1, 0, 1, 1, 0, 1, 0, 1, 0, 0, 0, 0, 0, 0, 0, 0,\n",
              "       0, 1, 0, 0, 0, 0, 1, 1, 0, 0, 0, 1, 0, 1, 1, 1, 0, 0, 0, 1, 1, 1,\n",
              "       0, 0, 0, 0, 0, 0, 1, 1, 0, 0, 0, 0, 0, 1, 0, 0, 0, 1, 0, 0, 0, 1,\n",
              "       1, 0, 0, 0, 1, 1, 1, 0, 1, 0, 0, 0, 0, 0, 0, 1, 0, 1, 1, 0, 0, 1,\n",
              "       1, 0, 0, 0, 1, 1, 0, 0, 0, 0, 1, 0, 0, 0, 1, 1, 1, 0, 1, 1, 1, 0,\n",
              "       0, 0, 0, 1, 0, 1, 1, 0, 0, 0, 1, 0, 0, 0, 0, 0, 0, 0, 0, 1, 1, 0,\n",
              "       0, 0, 0, 0, 0, 1, 0, 1, 0, 0, 0, 1, 0, 0, 0, 0, 1, 0, 0, 0, 0, 0,\n",
              "       1, 1, 0, 1, 0, 0, 0, 0, 0, 0, 0, 1, 0, 1, 1, 0, 1, 1, 1, 1, 1, 0,\n",
              "       0, 0, 0, 0, 0, 0, 1, 0, 0, 1, 0, 1, 1, 1, 1, 0, 0, 0, 0, 0, 1, 1,\n",
              "       0, 1, 1, 0, 1, 0, 0, 0, 1, 1, 0, 1, 1, 1, 0, 0, 0, 0, 0, 1, 0, 0,\n",
              "       0, 0, 1, 0, 0, 0, 0, 0, 0, 1, 1, 0, 1, 0, 1, 0, 0, 0, 0, 1, 1, 0,\n",
              "       0, 0, 1, 1, 1, 0, 0, 1, 1, 0, 0, 0, 0, 0, 1, 0, 0, 1, 0, 1, 0, 0,\n",
              "       0, 1, 0, 0, 0, 0, 0, 0, 0, 1, 0, 0, 0, 0, 1, 1, 1, 1, 0, 1, 1, 0,\n",
              "       0, 0, 0, 1, 1, 0, 1, 1, 0, 1, 0, 1, 1, 0, 0, 0, 1, 0, 0, 1, 0, 0,\n",
              "       1, 0, 0, 1, 0, 0, 0, 0, 0, 1, 0, 0, 1, 0, 1, 0, 0, 0, 1, 0, 0, 1,\n",
              "       1, 0, 0, 0, 1, 0, 1, 1, 0, 0, 1, 0, 1, 0, 1, 1, 1, 0, 0, 1, 0, 1,\n",
              "       1, 1, 0, 0, 0, 0, 0, 0, 0, 0, 0, 0, 1, 0, 0, 0, 1, 1, 0, 0, 0, 0,\n",
              "       0, 1, 1, 1, 0, 0, 0, 0, 0, 0, 1, 0, 1, 0, 0, 0, 1, 1, 1, 1, 0, 0,\n",
              "       0, 1, 0, 1, 1, 0, 0, 1, 0, 0, 1, 0, 1, 1, 1, 1, 0, 0, 0, 0, 1, 0,\n",
              "       0, 0, 0, 0, 0, 1, 0, 1, 1, 0, 0, 0, 1, 1, 0, 0, 1, 0, 0, 0, 0, 0,\n",
              "       0, 0, 1, 0, 0, 1, 0, 1, 0, 0, 0, 0, 1, 0, 0, 0, 1, 0, 1, 0, 0])"
            ]
          },
          "metadata": {
            "tags": []
          },
          "execution_count": 240
        }
      ]
    },
    {
      "cell_type": "code",
      "metadata": {
        "id": "VZRTIBi5GGwr",
        "colab_type": "code",
        "colab": {}
      },
      "source": [
        "from sklearn.metrics import accuracy_score"
      ],
      "execution_count": 0,
      "outputs": []
    },
    {
      "cell_type": "code",
      "metadata": {
        "id": "9VP4pu5IGGpx",
        "colab_type": "code",
        "colab": {
          "base_uri": "https://localhost:8080/",
          "height": 34
        },
        "outputId": "5c2c19d7-bf19-4062-9c2e-81eb428f421c"
      },
      "source": [
        "accuracy_score(y_val_final,y_val_predict)"
      ],
      "execution_count": 243,
      "outputs": [
        {
          "output_type": "execute_result",
          "data": {
            "text/plain": [
              "0.7151248164464024"
            ]
          },
          "metadata": {
            "tags": []
          },
          "execution_count": 243
        }
      ]
    },
    {
      "cell_type": "code",
      "metadata": {
        "id": "yexsMDikH4R5",
        "colab_type": "code",
        "colab": {}
      },
      "source": [
        ""
      ],
      "execution_count": 0,
      "outputs": []
    },
    {
      "cell_type": "code",
      "metadata": {
        "id": "IfctXHlSH4xQ",
        "colab_type": "code",
        "colab": {}
      },
      "source": [
        ""
      ],
      "execution_count": 0,
      "outputs": []
    },
    {
      "cell_type": "code",
      "metadata": {
        "id": "W8GgMEmrIEQj",
        "colab_type": "code",
        "colab": {}
      },
      "source": [
        ""
      ],
      "execution_count": 0,
      "outputs": []
    },
    {
      "cell_type": "code",
      "metadata": {
        "id": "mOxoMxtMIEd0",
        "colab_type": "code",
        "colab": {}
      },
      "source": [
        ""
      ],
      "execution_count": 0,
      "outputs": []
    },
    {
      "cell_type": "code",
      "metadata": {
        "id": "g1xYpID2IEqn",
        "colab_type": "code",
        "colab": {}
      },
      "source": [
        ""
      ],
      "execution_count": 0,
      "outputs": []
    },
    {
      "cell_type": "code",
      "metadata": {
        "id": "Qm4zdN-_IEne",
        "colab_type": "code",
        "colab": {}
      },
      "source": [
        ""
      ],
      "execution_count": 0,
      "outputs": []
    },
    {
      "cell_type": "code",
      "metadata": {
        "id": "kI6QgOANIElg",
        "colab_type": "code",
        "colab": {}
      },
      "source": [
        ""
      ],
      "execution_count": 0,
      "outputs": []
    },
    {
      "cell_type": "code",
      "metadata": {
        "id": "PvDNfZR-IEir",
        "colab_type": "code",
        "colab": {}
      },
      "source": [
        "from tensorflow.python.keras.layers import Dense\n",
        "from tensorflow.python.keras import Sequential\n",
        "from tensorflow.python.keras.optimizers import Adam\n",
        "from tensorflow.python.keras.layers import Flatten"
      ],
      "execution_count": 0,
      "outputs": []
    },
    {
      "cell_type": "code",
      "metadata": {
        "id": "4l8UJBqLIEVi",
        "colab_type": "code",
        "colab": {}
      },
      "source": [
        "model_new = Sequential([Flatten(),\n",
        "                    Dense(512, activation='relu'),\n",
        "                    Dense(256, activation = 'relu'),\n",
        "                    Dense(128, activation = 'relu'),\n",
        "                    Dense(2, activation = 'softmax')\n",
        "                    ])"
      ],
      "execution_count": 0,
      "outputs": []
    },
    {
      "cell_type": "code",
      "metadata": {
        "id": "V1yMYnaNH44t",
        "colab_type": "code",
        "colab": {}
      },
      "source": [
        "model_new.compile(optimizer='adam', loss='sparse_categorical_crossentropy',metrics=['accuracy'])"
      ],
      "execution_count": 0,
      "outputs": []
    },
    {
      "cell_type": "code",
      "metadata": {
        "id": "RCi4EyfWJd0q",
        "colab_type": "code",
        "colab": {
          "base_uri": "https://localhost:8080/",
          "height": 544
        },
        "outputId": "bf9973ee-2da4-4aaf-bd2d-1a943c4ba784"
      },
      "source": [
        "model_new.fit(x_train,y_train_final, epochs=15)"
      ],
      "execution_count": 298,
      "outputs": [
        {
          "output_type": "stream",
          "text": [
            "Epoch 1/15\n",
            "50/50 [==============================] - 1s 17ms/step - loss: 0.6255 - accuracy: 0.6375\n",
            "Epoch 2/15\n",
            "50/50 [==============================] - 1s 20ms/step - loss: 0.4549 - accuracy: 0.7904\n",
            "Epoch 3/15\n",
            "50/50 [==============================] - 1s 19ms/step - loss: 0.2644 - accuracy: 0.8962\n",
            "Epoch 4/15\n",
            "50/50 [==============================] - 1s 20ms/step - loss: 0.1187 - accuracy: 0.9629\n",
            "Epoch 5/15\n",
            "50/50 [==============================] - 1s 21ms/step - loss: 0.0366 - accuracy: 0.9899\n",
            "Epoch 6/15\n",
            "50/50 [==============================] - 1s 19ms/step - loss: 0.0174 - accuracy: 0.9975\n",
            "Epoch 7/15\n",
            "50/50 [==============================] - 1s 18ms/step - loss: 0.0031 - accuracy: 0.9994\n",
            "Epoch 8/15\n",
            "50/50 [==============================] - 1s 17ms/step - loss: 0.0011 - accuracy: 1.0000\n",
            "Epoch 9/15\n",
            "50/50 [==============================] - 1s 19ms/step - loss: 6.7582e-04 - accuracy: 1.0000\n",
            "Epoch 10/15\n",
            "50/50 [==============================] - 1s 17ms/step - loss: 4.8513e-04 - accuracy: 1.0000\n",
            "Epoch 11/15\n",
            "50/50 [==============================] - 1s 17ms/step - loss: 3.2974e-04 - accuracy: 1.0000\n",
            "Epoch 12/15\n",
            "50/50 [==============================] - 1s 20ms/step - loss: 2.4270e-04 - accuracy: 1.0000\n",
            "Epoch 13/15\n",
            "50/50 [==============================] - 1s 15ms/step - loss: 1.7972e-04 - accuracy: 1.0000\n",
            "Epoch 14/15\n",
            "50/50 [==============================] - 1s 18ms/step - loss: 1.3652e-04 - accuracy: 1.0000\n",
            "Epoch 15/15\n",
            "50/50 [==============================] - 1s 18ms/step - loss: 1.0819e-04 - accuracy: 1.0000\n"
          ],
          "name": "stdout"
        },
        {
          "output_type": "execute_result",
          "data": {
            "text/plain": [
              "<tensorflow.python.keras.callbacks.History at 0x7f120aff66d8>"
            ]
          },
          "metadata": {
            "tags": []
          },
          "execution_count": 298
        }
      ]
    },
    {
      "cell_type": "code",
      "metadata": {
        "id": "x9WZWVPhJkua",
        "colab_type": "code",
        "colab": {}
      },
      "source": [
        ""
      ],
      "execution_count": 0,
      "outputs": []
    },
    {
      "cell_type": "code",
      "metadata": {
        "id": "Gswe54ezJzwz",
        "colab_type": "code",
        "colab": {}
      },
      "source": [
        "y_val_predict = model_new.predict_classes(x_val)"
      ],
      "execution_count": 0,
      "outputs": []
    },
    {
      "cell_type": "code",
      "metadata": {
        "id": "h-oJCk7zJzsd",
        "colab_type": "code",
        "colab": {
          "base_uri": "https://localhost:8080/",
          "height": 34
        },
        "outputId": "dce7999b-6341-4d45-bfc1-b35442d7558b"
      },
      "source": [
        "accuracy_score(y_val_final,y_val_predict)"
      ],
      "execution_count": 300,
      "outputs": [
        {
          "output_type": "execute_result",
          "data": {
            "text/plain": [
              "0.7665198237885462"
            ]
          },
          "metadata": {
            "tags": []
          },
          "execution_count": 300
        }
      ]
    },
    {
      "cell_type": "code",
      "metadata": {
        "id": "-kMy1LXRJzoQ",
        "colab_type": "code",
        "colab": {}
      },
      "source": [
        ""
      ],
      "execution_count": 0,
      "outputs": []
    },
    {
      "cell_type": "code",
      "metadata": {
        "id": "Uara49hDL3zo",
        "colab_type": "code",
        "colab": {}
      },
      "source": [
        ""
      ],
      "execution_count": 0,
      "outputs": []
    },
    {
      "cell_type": "code",
      "metadata": {
        "id": "k6klvJ0HL4IU",
        "colab_type": "code",
        "colab": {}
      },
      "source": [
        ""
      ],
      "execution_count": 0,
      "outputs": []
    },
    {
      "cell_type": "code",
      "metadata": {
        "id": "hbi6enlTL4T9",
        "colab_type": "code",
        "colab": {}
      },
      "source": [
        "## Now Test with test data"
      ],
      "execution_count": 0,
      "outputs": []
    },
    {
      "cell_type": "code",
      "metadata": {
        "id": "O8JSz1D5L4PR",
        "colab_type": "code",
        "colab": {}
      },
      "source": [
        "test_data  =  \"//content//drive//My Drive//BDMH//Assignment 3//testset.dat\""
      ],
      "execution_count": 0,
      "outputs": []
    },
    {
      "cell_type": "code",
      "metadata": {
        "id": "xUQvt3CiL4E-",
        "colab_type": "code",
        "colab": {}
      },
      "source": [
        "test_seq = []\n",
        "with open(test_data) as f:\n",
        "  for line in f:\n",
        "    text_file = line.split(\",\")\n",
        "    test_seq.append(text_file[1][:-1])\n",
        "\n",
        "X_te = test_seq[1:]"
      ],
      "execution_count": 0,
      "outputs": []
    },
    {
      "cell_type": "code",
      "metadata": {
        "id": "m0MYyIUPL4DC",
        "colab_type": "code",
        "colab": {}
      },
      "source": [
        "# X_te"
      ],
      "execution_count": 0,
      "outputs": []
    },
    {
      "cell_type": "code",
      "metadata": {
        "id": "CHRpUS-_L4BB",
        "colab_type": "code",
        "colab": {}
      },
      "source": [
        "testing_vector_dictionary = getlist_of_dictionary(X_te)"
      ],
      "execution_count": 0,
      "outputs": []
    },
    {
      "cell_type": "code",
      "metadata": {
        "id": "VYPDao8DL39M",
        "colab_type": "code",
        "colab": {}
      },
      "source": [
        "X_test = getvector(testing_vector_dictionary)"
      ],
      "execution_count": 0,
      "outputs": []
    },
    {
      "cell_type": "code",
      "metadata": {
        "id": "E12Env9OL35S",
        "colab_type": "code",
        "colab": {}
      },
      "source": [
        "X_test = np.array(X_test)"
      ],
      "execution_count": 0,
      "outputs": []
    },
    {
      "cell_type": "code",
      "metadata": {
        "id": "dXx2UAMpMkSI",
        "colab_type": "code",
        "colab": {}
      },
      "source": [
        "Y_predict =  model_new.predict_classes(X_test)"
      ],
      "execution_count": 0,
      "outputs": []
    },
    {
      "cell_type": "code",
      "metadata": {
        "id": "qK8GJTAjMkaN",
        "colab_type": "code",
        "colab": {}
      },
      "source": [
        ""
      ],
      "execution_count": 0,
      "outputs": []
    },
    {
      "cell_type": "code",
      "metadata": {
        "id": "gtyAHFBfMkWc",
        "colab_type": "code",
        "colab": {}
      },
      "source": [
        "final_test = []\n",
        "for i in Y_predict:\n",
        "  if i == 0:\n",
        "    final_test.append(-1)\n",
        "  else:\n",
        "    final_test.append(1)  \n"
      ],
      "execution_count": 0,
      "outputs": []
    },
    {
      "cell_type": "code",
      "metadata": {
        "id": "Rn_1qoZsMkO2",
        "colab_type": "code",
        "colab": {}
      },
      "source": [
        ""
      ],
      "execution_count": 0,
      "outputs": []
    },
    {
      "cell_type": "code",
      "metadata": {
        "id": "ka5gbdj8Jzkd",
        "colab_type": "code",
        "colab": {
          "base_uri": "https://localhost:8080/",
          "height": 1000
        },
        "outputId": "e5f41ba8-8fab-41fb-9e08-0781449885f0"
      },
      "source": [
        "count = 1001\n",
        "for i in final_test:\n",
        "  print(count,',',i, sep='')\n",
        "  count += 1"
      ],
      "execution_count": 319,
      "outputs": [
        {
          "output_type": "stream",
          "text": [
            "1001,-1\n",
            "1002,1\n",
            "1003,-1\n",
            "1004,-1\n",
            "1005,-1\n",
            "1006,-1\n",
            "1007,-1\n",
            "1008,1\n",
            "1009,-1\n",
            "1010,1\n",
            "1011,-1\n",
            "1012,-1\n",
            "1013,1\n",
            "1014,-1\n",
            "1015,-1\n",
            "1016,-1\n",
            "1017,-1\n",
            "1018,-1\n",
            "1019,1\n",
            "1020,-1\n",
            "1021,-1\n",
            "1022,1\n",
            "1023,-1\n",
            "1024,-1\n",
            "1025,-1\n",
            "1026,-1\n",
            "1027,-1\n",
            "1028,-1\n",
            "1029,-1\n",
            "1030,-1\n",
            "1031,1\n",
            "1032,-1\n",
            "1033,1\n",
            "1034,-1\n",
            "1035,1\n",
            "1036,-1\n",
            "1037,-1\n",
            "1038,-1\n",
            "1039,1\n",
            "1040,1\n",
            "1041,-1\n",
            "1042,-1\n",
            "1043,1\n",
            "1044,1\n",
            "1045,-1\n",
            "1046,-1\n",
            "1047,1\n",
            "1048,-1\n",
            "1049,-1\n",
            "1050,1\n",
            "1051,-1\n",
            "1052,-1\n",
            "1053,-1\n",
            "1054,-1\n",
            "1055,-1\n",
            "1056,-1\n",
            "1057,-1\n",
            "1058,-1\n",
            "1059,1\n",
            "1060,1\n",
            "1061,-1\n",
            "1062,1\n",
            "1063,-1\n",
            "1064,1\n",
            "1065,-1\n",
            "1066,-1\n",
            "1067,-1\n",
            "1068,1\n",
            "1069,-1\n",
            "1070,-1\n",
            "1071,1\n",
            "1072,1\n",
            "1073,-1\n",
            "1074,1\n",
            "1075,-1\n",
            "1076,-1\n",
            "1077,-1\n",
            "1078,-1\n",
            "1079,-1\n",
            "1080,1\n",
            "1081,-1\n",
            "1082,1\n",
            "1083,-1\n",
            "1084,-1\n",
            "1085,1\n",
            "1086,-1\n",
            "1087,-1\n",
            "1088,1\n",
            "1089,-1\n",
            "1090,-1\n",
            "1091,1\n",
            "1092,-1\n",
            "1093,1\n",
            "1094,-1\n",
            "1095,1\n",
            "1096,1\n",
            "1097,-1\n",
            "1098,1\n",
            "1099,-1\n",
            "1100,1\n",
            "1101,-1\n",
            "1102,-1\n",
            "1103,1\n",
            "1104,-1\n",
            "1105,-1\n",
            "1106,-1\n",
            "1107,-1\n",
            "1108,-1\n",
            "1109,1\n",
            "1110,-1\n",
            "1111,-1\n",
            "1112,-1\n",
            "1113,-1\n",
            "1114,-1\n",
            "1115,-1\n",
            "1116,1\n",
            "1117,1\n",
            "1118,1\n",
            "1119,-1\n",
            "1120,-1\n",
            "1121,-1\n",
            "1122,-1\n",
            "1123,-1\n",
            "1124,-1\n",
            "1125,-1\n",
            "1126,-1\n",
            "1127,-1\n",
            "1128,-1\n",
            "1129,1\n",
            "1130,-1\n",
            "1131,-1\n",
            "1132,1\n",
            "1133,-1\n",
            "1134,1\n",
            "1135,-1\n",
            "1136,-1\n",
            "1137,-1\n",
            "1138,-1\n",
            "1139,-1\n",
            "1140,1\n",
            "1141,-1\n",
            "1142,1\n",
            "1143,-1\n",
            "1144,1\n",
            "1145,-1\n",
            "1146,1\n",
            "1147,-1\n",
            "1148,-1\n",
            "1149,-1\n",
            "1150,-1\n",
            "1151,1\n",
            "1152,-1\n",
            "1153,-1\n",
            "1154,-1\n",
            "1155,-1\n",
            "1156,-1\n",
            "1157,-1\n",
            "1158,-1\n",
            "1159,-1\n",
            "1160,1\n",
            "1161,-1\n",
            "1162,1\n",
            "1163,-1\n",
            "1164,-1\n",
            "1165,-1\n",
            "1166,1\n",
            "1167,-1\n",
            "1168,-1\n",
            "1169,-1\n",
            "1170,1\n",
            "1171,-1\n",
            "1172,-1\n",
            "1173,-1\n",
            "1174,-1\n",
            "1175,-1\n",
            "1176,-1\n",
            "1177,1\n",
            "1178,-1\n",
            "1179,-1\n",
            "1180,1\n",
            "1181,-1\n",
            "1182,-1\n",
            "1183,-1\n",
            "1184,-1\n",
            "1185,-1\n",
            "1186,1\n",
            "1187,-1\n",
            "1188,1\n",
            "1189,-1\n",
            "1190,1\n",
            "1191,-1\n",
            "1192,-1\n",
            "1193,1\n",
            "1194,-1\n",
            "1195,-1\n",
            "1196,1\n",
            "1197,-1\n",
            "1198,-1\n",
            "1199,1\n",
            "1200,-1\n",
            "1201,1\n",
            "1202,1\n",
            "1203,1\n",
            "1204,-1\n",
            "1205,-1\n",
            "1206,-1\n",
            "1207,1\n",
            "1208,1\n",
            "1209,1\n",
            "1210,1\n",
            "1211,-1\n",
            "1212,-1\n",
            "1213,-1\n",
            "1214,1\n",
            "1215,-1\n",
            "1216,-1\n",
            "1217,1\n",
            "1218,1\n",
            "1219,-1\n",
            "1220,-1\n",
            "1221,1\n",
            "1222,-1\n",
            "1223,1\n",
            "1224,-1\n",
            "1225,-1\n",
            "1226,-1\n",
            "1227,1\n",
            "1228,-1\n",
            "1229,-1\n",
            "1230,1\n",
            "1231,-1\n",
            "1232,1\n",
            "1233,-1\n",
            "1234,1\n",
            "1235,-1\n",
            "1236,-1\n",
            "1237,-1\n",
            "1238,1\n",
            "1239,-1\n",
            "1240,-1\n",
            "1241,-1\n",
            "1242,-1\n",
            "1243,1\n",
            "1244,-1\n",
            "1245,1\n",
            "1246,-1\n",
            "1247,1\n",
            "1248,-1\n",
            "1249,-1\n",
            "1250,-1\n",
            "1251,1\n",
            "1252,1\n",
            "1253,1\n",
            "1254,1\n",
            "1255,-1\n",
            "1256,-1\n",
            "1257,-1\n",
            "1258,1\n",
            "1259,-1\n",
            "1260,-1\n",
            "1261,1\n",
            "1262,-1\n",
            "1263,1\n",
            "1264,-1\n",
            "1265,1\n",
            "1266,1\n",
            "1267,-1\n",
            "1268,1\n",
            "1269,-1\n",
            "1270,1\n",
            "1271,1\n",
            "1272,-1\n",
            "1273,1\n",
            "1274,-1\n",
            "1275,-1\n",
            "1276,-1\n",
            "1277,1\n",
            "1278,-1\n",
            "1279,1\n",
            "1280,-1\n",
            "1281,-1\n",
            "1282,-1\n",
            "1283,1\n",
            "1284,-1\n",
            "1285,1\n",
            "1286,-1\n",
            "1287,1\n",
            "1288,-1\n",
            "1289,-1\n",
            "1290,-1\n",
            "1291,1\n",
            "1292,-1\n",
            "1293,-1\n",
            "1294,-1\n",
            "1295,1\n",
            "1296,-1\n",
            "1297,1\n",
            "1298,-1\n",
            "1299,-1\n",
            "1300,-1\n",
            "1301,-1\n",
            "1302,-1\n",
            "1303,-1\n",
            "1304,-1\n",
            "1305,1\n",
            "1306,-1\n",
            "1307,-1\n",
            "1308,-1\n",
            "1309,1\n",
            "1310,-1\n",
            "1311,-1\n",
            "1312,-1\n",
            "1313,-1\n",
            "1314,-1\n",
            "1315,-1\n",
            "1316,1\n",
            "1317,1\n",
            "1318,-1\n",
            "1319,1\n",
            "1320,1\n",
            "1321,-1\n",
            "1322,-1\n",
            "1323,-1\n",
            "1324,-1\n",
            "1325,-1\n",
            "1326,1\n",
            "1327,-1\n",
            "1328,1\n",
            "1329,1\n",
            "1330,-1\n",
            "1331,-1\n",
            "1332,1\n",
            "1333,-1\n",
            "1334,1\n",
            "1335,1\n",
            "1336,-1\n",
            "1337,1\n",
            "1338,1\n",
            "1339,1\n",
            "1340,-1\n",
            "1341,1\n",
            "1342,-1\n",
            "1343,1\n",
            "1344,-1\n",
            "1345,1\n",
            "1346,-1\n",
            "1347,1\n",
            "1348,-1\n",
            "1349,1\n",
            "1350,-1\n",
            "1351,-1\n",
            "1352,-1\n",
            "1353,1\n",
            "1354,-1\n",
            "1355,1\n",
            "1356,1\n",
            "1357,1\n",
            "1358,-1\n",
            "1359,1\n",
            "1360,-1\n",
            "1361,-1\n",
            "1362,-1\n",
            "1363,-1\n",
            "1364,-1\n",
            "1365,-1\n",
            "1366,-1\n",
            "1367,-1\n",
            "1368,-1\n",
            "1369,-1\n",
            "1370,-1\n",
            "1371,1\n",
            "1372,1\n",
            "1373,-1\n",
            "1374,-1\n",
            "1375,1\n",
            "1376,-1\n",
            "1377,1\n",
            "1378,1\n",
            "1379,1\n",
            "1380,1\n",
            "1381,1\n",
            "1382,1\n",
            "1383,1\n",
            "1384,-1\n",
            "1385,1\n",
            "1386,-1\n",
            "1387,-1\n",
            "1388,-1\n",
            "1389,1\n",
            "1390,1\n",
            "1391,-1\n",
            "1392,-1\n",
            "1393,-1\n",
            "1394,1\n",
            "1395,-1\n",
            "1396,-1\n",
            "1397,-1\n",
            "1398,-1\n",
            "1399,1\n",
            "1400,-1\n",
            "1401,-1\n",
            "1402,1\n",
            "1403,-1\n",
            "1404,-1\n",
            "1405,-1\n",
            "1406,1\n",
            "1407,-1\n",
            "1408,-1\n",
            "1409,-1\n",
            "1410,-1\n",
            "1411,-1\n",
            "1412,1\n",
            "1413,1\n",
            "1414,1\n",
            "1415,1\n",
            "1416,-1\n",
            "1417,-1\n",
            "1418,1\n",
            "1419,-1\n",
            "1420,-1\n",
            "1421,1\n",
            "1422,-1\n",
            "1423,1\n",
            "1424,-1\n",
            "1425,-1\n",
            "1426,-1\n",
            "1427,1\n",
            "1428,1\n",
            "1429,-1\n",
            "1430,-1\n",
            "1431,1\n",
            "1432,1\n",
            "1433,1\n",
            "1434,1\n",
            "1435,1\n",
            "1436,1\n",
            "1437,-1\n",
            "1438,-1\n",
            "1439,-1\n",
            "1440,1\n",
            "1441,1\n",
            "1442,1\n",
            "1443,1\n",
            "1444,-1\n",
            "1445,-1\n",
            "1446,-1\n",
            "1447,-1\n",
            "1448,1\n",
            "1449,-1\n",
            "1450,-1\n",
            "1451,-1\n",
            "1452,-1\n",
            "1453,-1\n",
            "1454,1\n",
            "1455,-1\n",
            "1456,-1\n",
            "1457,-1\n",
            "1458,-1\n",
            "1459,1\n",
            "1460,-1\n",
            "1461,1\n",
            "1462,1\n",
            "1463,1\n",
            "1464,1\n",
            "1465,1\n",
            "1466,-1\n",
            "1467,-1\n",
            "1468,1\n",
            "1469,-1\n",
            "1470,-1\n",
            "1471,1\n",
            "1472,-1\n",
            "1473,-1\n",
            "1474,1\n",
            "1475,-1\n",
            "1476,-1\n",
            "1477,1\n",
            "1478,-1\n",
            "1479,-1\n",
            "1480,-1\n",
            "1481,-1\n",
            "1482,-1\n",
            "1483,-1\n",
            "1484,-1\n",
            "1485,-1\n",
            "1486,-1\n",
            "1487,-1\n",
            "1488,-1\n",
            "1489,1\n",
            "1490,-1\n",
            "1491,1\n",
            "1492,-1\n",
            "1493,-1\n",
            "1494,1\n",
            "1495,-1\n",
            "1496,-1\n",
            "1497,-1\n",
            "1498,1\n",
            "1499,-1\n",
            "1500,1\n",
            "1501,1\n",
            "1502,1\n",
            "1503,-1\n",
            "1504,1\n",
            "1505,-1\n",
            "1506,1\n",
            "1507,-1\n",
            "1508,-1\n",
            "1509,1\n",
            "1510,-1\n",
            "1511,-1\n",
            "1512,-1\n",
            "1513,-1\n",
            "1514,1\n",
            "1515,-1\n",
            "1516,1\n",
            "1517,-1\n",
            "1518,-1\n",
            "1519,-1\n",
            "1520,-1\n",
            "1521,1\n",
            "1522,-1\n",
            "1523,1\n",
            "1524,1\n",
            "1525,1\n",
            "1526,-1\n",
            "1527,-1\n",
            "1528,-1\n",
            "1529,1\n",
            "1530,-1\n",
            "1531,1\n",
            "1532,-1\n",
            "1533,-1\n",
            "1534,1\n",
            "1535,-1\n",
            "1536,-1\n",
            "1537,-1\n",
            "1538,-1\n",
            "1539,-1\n",
            "1540,1\n",
            "1541,-1\n",
            "1542,-1\n",
            "1543,1\n",
            "1544,-1\n",
            "1545,-1\n",
            "1546,1\n",
            "1547,1\n",
            "1548,-1\n",
            "1549,-1\n",
            "1550,1\n",
            "1551,-1\n",
            "1552,1\n",
            "1553,-1\n",
            "1554,1\n",
            "1555,1\n",
            "1556,-1\n",
            "1557,-1\n",
            "1558,-1\n",
            "1559,-1\n",
            "1560,1\n",
            "1561,1\n",
            "1562,-1\n",
            "1563,-1\n",
            "1564,1\n",
            "1565,1\n",
            "1566,1\n",
            "1567,-1\n"
          ],
          "name": "stdout"
        }
      ]
    },
    {
      "cell_type": "code",
      "metadata": {
        "id": "2bKscsFSNi44",
        "colab_type": "code",
        "colab": {}
      },
      "source": [
        ""
      ],
      "execution_count": 0,
      "outputs": []
    }
  ]
}